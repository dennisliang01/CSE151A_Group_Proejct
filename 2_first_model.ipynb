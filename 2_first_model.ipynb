{
 "cells": [
  {
   "cell_type": "markdown",
   "metadata": {},
   "source": [
    "Download necessay dependencies (if running on desktop instead of Google Colab)"
   ]
  },
  {
   "cell_type": "code",
   "execution_count": 1,
   "metadata": {},
   "outputs": [
    {
     "name": "stdout",
     "output_type": "stream",
     "text": [
      "Defaulting to user installation because normal site-packages is not writeable\n",
      "Requirement already satisfied: seaborn in c:\\programdata\\anaconda3\\lib\\site-packages (0.12.2)\n",
      "Requirement already satisfied: numpy!=1.24.0,>=1.17 in c:\\programdata\\anaconda3\\lib\\site-packages (from seaborn) (1.26.4)\n",
      "Requirement already satisfied: pandas>=0.25 in c:\\programdata\\anaconda3\\lib\\site-packages (from seaborn) (2.1.4)\n",
      "Requirement already satisfied: matplotlib!=3.6.1,>=3.1 in c:\\programdata\\anaconda3\\lib\\site-packages (from seaborn) (3.8.0)\n",
      "Requirement already satisfied: contourpy>=1.0.1 in c:\\programdata\\anaconda3\\lib\\site-packages (from matplotlib!=3.6.1,>=3.1->seaborn) (1.2.0)\n",
      "Requirement already satisfied: cycler>=0.10 in c:\\programdata\\anaconda3\\lib\\site-packages (from matplotlib!=3.6.1,>=3.1->seaborn) (0.11.0)\n",
      "Requirement already satisfied: fonttools>=4.22.0 in c:\\programdata\\anaconda3\\lib\\site-packages (from matplotlib!=3.6.1,>=3.1->seaborn) (4.25.0)\n",
      "Requirement already satisfied: kiwisolver>=1.0.1 in c:\\programdata\\anaconda3\\lib\\site-packages (from matplotlib!=3.6.1,>=3.1->seaborn) (1.4.4)\n",
      "Requirement already satisfied: packaging>=20.0 in c:\\programdata\\anaconda3\\lib\\site-packages (from matplotlib!=3.6.1,>=3.1->seaborn) (23.1)\n",
      "Requirement already satisfied: pillow>=6.2.0 in c:\\programdata\\anaconda3\\lib\\site-packages (from matplotlib!=3.6.1,>=3.1->seaborn) (10.2.0)\n",
      "Requirement already satisfied: pyparsing>=2.3.1 in c:\\programdata\\anaconda3\\lib\\site-packages (from matplotlib!=3.6.1,>=3.1->seaborn) (3.0.9)\n",
      "Requirement already satisfied: python-dateutil>=2.7 in c:\\programdata\\anaconda3\\lib\\site-packages (from matplotlib!=3.6.1,>=3.1->seaborn) (2.8.2)\n",
      "Requirement already satisfied: pytz>=2020.1 in c:\\programdata\\anaconda3\\lib\\site-packages (from pandas>=0.25->seaborn) (2023.3.post1)\n",
      "Requirement already satisfied: tzdata>=2022.1 in c:\\programdata\\anaconda3\\lib\\site-packages (from pandas>=0.25->seaborn) (2023.3)\n",
      "Requirement already satisfied: six>=1.5 in c:\\programdata\\anaconda3\\lib\\site-packages (from python-dateutil>=2.7->matplotlib!=3.6.1,>=3.1->seaborn) (1.16.0)\n",
      "Note: you may need to restart the kernel to use updated packages.\n",
      "Defaulting to user installation because normal site-packages is not writeable\n",
      "Requirement already satisfied: numpy in c:\\programdata\\anaconda3\\lib\\site-packages (1.26.4)\n",
      "Note: you may need to restart the kernel to use updated packages.\n",
      "Defaulting to user installation because normal site-packages is not writeable\n",
      "Requirement already satisfied: pandas in c:\\programdata\\anaconda3\\lib\\site-packages (2.1.4)\n",
      "Requirement already satisfied: numpy<2,>=1.23.2 in c:\\programdata\\anaconda3\\lib\\site-packages (from pandas) (1.26.4)\n",
      "Requirement already satisfied: python-dateutil>=2.8.2 in c:\\programdata\\anaconda3\\lib\\site-packages (from pandas) (2.8.2)\n",
      "Requirement already satisfied: pytz>=2020.1 in c:\\programdata\\anaconda3\\lib\\site-packages (from pandas) (2023.3.post1)\n",
      "Requirement already satisfied: tzdata>=2022.1 in c:\\programdata\\anaconda3\\lib\\site-packages (from pandas) (2023.3)\n",
      "Requirement already satisfied: six>=1.5 in c:\\programdata\\anaconda3\\lib\\site-packages (from python-dateutil>=2.8.2->pandas) (1.16.0)\n",
      "Note: you may need to restart the kernel to use updated packages.\n",
      "Defaulting to user installation because normal site-packages is not writeable\n",
      "Requirement already satisfied: matplotlib in c:\\programdata\\anaconda3\\lib\\site-packages (3.8.0)\n",
      "Requirement already satisfied: contourpy>=1.0.1 in c:\\programdata\\anaconda3\\lib\\site-packages (from matplotlib) (1.2.0)\n",
      "Requirement already satisfied: cycler>=0.10 in c:\\programdata\\anaconda3\\lib\\site-packages (from matplotlib) (0.11.0)\n",
      "Requirement already satisfied: fonttools>=4.22.0 in c:\\programdata\\anaconda3\\lib\\site-packages (from matplotlib) (4.25.0)\n",
      "Requirement already satisfied: kiwisolver>=1.0.1 in c:\\programdata\\anaconda3\\lib\\site-packages (from matplotlib) (1.4.4)\n",
      "Requirement already satisfied: numpy<2,>=1.21 in c:\\programdata\\anaconda3\\lib\\site-packages (from matplotlib) (1.26.4)\n",
      "Requirement already satisfied: packaging>=20.0 in c:\\programdata\\anaconda3\\lib\\site-packages (from matplotlib) (23.1)\n",
      "Requirement already satisfied: pillow>=6.2.0 in c:\\programdata\\anaconda3\\lib\\site-packages (from matplotlib) (10.2.0)\n",
      "Requirement already satisfied: pyparsing>=2.3.1 in c:\\programdata\\anaconda3\\lib\\site-packages (from matplotlib) (3.0.9)\n",
      "Requirement already satisfied: python-dateutil>=2.7 in c:\\programdata\\anaconda3\\lib\\site-packages (from matplotlib) (2.8.2)\n",
      "Requirement already satisfied: six>=1.5 in c:\\programdata\\anaconda3\\lib\\site-packages (from python-dateutil>=2.7->matplotlib) (1.16.0)\n",
      "Note: you may need to restart the kernel to use updated packages.\n"
     ]
    }
   ],
   "source": [
    "%pip install seaborn\n",
    "%pip install numpy\n",
    "%pip install pandas\n",
    "%pip install matplotlib"
   ]
  },
  {
   "cell_type": "markdown",
   "metadata": {},
   "source": [
    "Import the necessary dependencies"
   ]
  },
  {
   "cell_type": "code",
   "execution_count": 2,
   "metadata": {},
   "outputs": [],
   "source": [
    "import seaborn as sns\n",
    "import numpy as np\n",
    "import pandas as pd\n",
    "import matplotlib.pyplot as plt\n",
    "from sklearn import datasets\n",
    "from sklearn.model_selection import cross_val_score, train_test_split\n",
    "from sklearn.linear_model import LinearRegression\n",
    "from sklearn.metrics import mean_squared_error\n",
    "from sklearn.preprocessing import PolynomialFeatures\n",
    "from scipy.stats import shapiro"
   ]
  },
  {
   "cell_type": "markdown",
   "metadata": {},
   "source": [
    "Load preprocessed dataset"
   ]
  },
  {
   "cell_type": "code",
   "execution_count": 3,
   "metadata": {},
   "outputs": [],
   "source": [
    "bike_data = pd.read_csv('./data/SeoulBikeData_Processed.csv', encoding='unicode_escape')\n"
   ]
  },
  {
   "cell_type": "markdown",
   "metadata": {},
   "source": [
    "## Training Our First Model (Polynomial Regression)"
   ]
  },
  {
   "cell_type": "markdown",
   "metadata": {},
   "source": [
    "Spliting the Data"
   ]
  },
  {
   "cell_type": "code",
   "execution_count": 4,
   "metadata": {},
   "outputs": [
    {
     "name": "stdout",
     "output_type": "stream",
     "text": [
      "(7008, 13)\n",
      "(1752, 13)\n",
      "(7008,)\n",
      "(1752,)\n"
     ]
    }
   ],
   "source": [
    "x_train, x_test, y_train, y_test = train_test_split(bike_data.drop(['Rented Bike Count'], axis=1), bike_data['Rented Bike Count'], test_size=0.2, random_state=21)\n",
    "\n",
    "print(x_train.shape)\n",
    "print(x_test.shape)\n",
    "print(y_train.shape)\n",
    "print(y_test.shape)"
   ]
  },
  {
   "cell_type": "markdown",
   "metadata": {},
   "source": [
    "Scaling the Data"
   ]
  },
  {
   "cell_type": "code",
   "execution_count": 5,
   "metadata": {},
   "outputs": [
    {
     "name": "stdout",
     "output_type": "stream",
     "text": [
      "[[0.7826087  0.4020979  0.44897959 ... 0.         1.         0.03846154]\n",
      " [0.47826087 0.66958042 0.80612245 ... 0.         1.         0.45054945]\n",
      " [0.         0.26398601 0.41836735 ... 1.         1.         0.12912088]\n",
      " ...\n",
      " [0.         0.38111888 0.59183673 ... 0.         1.         0.92307692]\n",
      " [0.69565217 0.8986014  0.58163265 ... 0.         1.         0.59340659]\n",
      " [1.         0.7465035  0.8877551  ... 0.         1.         0.52197802]]\n",
      "[[0.13043478 0.63167587 0.58163265 ... 0.         1.         0.68956044]\n",
      " [0.95652174 0.91712707 0.65306122 ... 0.         1.         0.58516484]\n",
      " [0.04347826 0.5267035  0.75510204 ... 0.         1.         0.24725275]\n",
      " ...\n",
      " [0.47826087 0.35174954 0.51020408 ... 0.         1.         0.14835165]\n",
      " [0.17391304 0.21915285 0.71428571 ... 0.         1.         0.95879121]\n",
      " [0.56521739 0.31123389 0.30612245 ... 0.         1.         0.92582418]]\n",
      "[[0.15607424]\n",
      " [0.20669291]\n",
      " [0.02221597]\n",
      " ...\n",
      " [0.09617548]\n",
      " [0.23003375]\n",
      " [0.10489314]]\n",
      "[[0.12053708]\n",
      " [0.41959109]\n",
      " [0.13823619]\n",
      " ...\n",
      " [0.09093683]\n",
      " [0.02441257]\n",
      " [0.11931645]]\n"
     ]
    }
   ],
   "source": [
    "from sklearn.preprocessing import MinMaxScaler\n",
    "scaler = MinMaxScaler()\n",
    "\n",
    "x_train_scaled = scaler.fit_transform(x_train)\n",
    "x_test_scaled = scaler.fit_transform(x_test)\n",
    "\n",
    "y_train_scaled = scaler.fit_transform(y_train.values.reshape(-1, 1))\n",
    "y_test_scaled = scaler.fit_transform(y_test.values.reshape(-1, 1))\n",
    "\n",
    "print(x_train_scaled)\n",
    "print(x_test_scaled)\n",
    "print(y_train_scaled)\n",
    "print(y_test_scaled)"
   ]
  },
  {
   "cell_type": "markdown",
   "metadata": {},
   "source": [
    "Testing Different Polynomial Degrees"
   ]
  },
  {
   "cell_type": "code",
   "execution_count": 6,
   "metadata": {},
   "outputs": [
    {
     "name": "stdout",
     "output_type": "stream",
     "text": [
      "Degree  1  Training Mean squared error: 0.014771\n",
      "Degree  1  Test Mean squared error: 0.017929\n",
      "Degree  2  Training Mean squared error: 0.009724\n",
      "Degree  2  Test Mean squared error: 0.013152\n",
      "Degree  3  Training Mean squared error: 0.005771\n",
      "Degree  3  Test Mean squared error: 0.757728\n",
      "Degree  4  Training Mean squared error: 0.003471\n",
      "Degree  4  Test Mean squared error: 5261287068.281070\n"
     ]
    }
   ],
   "source": [
    "from sklearn.preprocessing import PolynomialFeatures\n",
    "\n",
    "mse_training_list = []\n",
    "mse_test_list = []\n",
    "\n",
    "for x in range(1, 5):\n",
    "  poly = PolynomialFeatures(degree=x)\n",
    "\n",
    "  x_train_poly = poly.fit_transform(x_train_scaled)\n",
    "  x_test_poly = poly.fit_transform(x_test_scaled)\n",
    "\n",
    "  poly_reg_model = LinearRegression()\n",
    "  poly_reg_model.fit(x_train_poly, y_train_scaled)\n",
    "\n",
    "  yhat_train = poly_reg_model.predict(x_train_poly)\n",
    "  yhat_test = poly_reg_model.predict(x_test_poly)\n",
    "\n",
    "  train_mse = mean_squared_error(y_train_scaled, yhat_train)\n",
    "  test_mse = mean_squared_error(y_test_scaled, yhat_test)\n",
    "\n",
    "  mse_training_list.append(train_mse)\n",
    "  mse_test_list.append(test_mse)\n",
    "\n",
    "  print('Degree ', x, ' Training Mean squared error: %f' % train_mse)\n",
    "  print('Degree ', x, ' Test Mean squared error: %f' % test_mse)"
   ]
  },
  {
   "cell_type": "markdown",
   "metadata": {},
   "source": [
    "We noticed that the test dataset MSE for degree 4 is very high. For easier visualization, we did not include degree 4 in our fitting graph."
   ]
  },
  {
   "cell_type": "code",
   "execution_count": 7,
   "metadata": {},
   "outputs": [
    {
     "data": {
      "image/png": "[encoded data removed]",
      "text/plain": [
       "<Figure size 640x480 with 1 Axes>"
      ]
     },
     "metadata": {},
     "output_type": "display_data"
    }
   ],
   "source": [
    "plt.figure()\n",
    "plt.title('MSE vs Polynomial Degree')\n",
    "plt.plot(range(1, 4), mse_training_list[0:3], label='Training')\n",
    "plt.plot(range(1, 4), mse_test_list[0:3], label='Test')\n",
    "\n",
    "plt.xticks(range(1, 4))\n",
    "\n",
    "plt.xlabel('Polynomial Degree')\n",
    "plt.ylabel('Mean Squared Error')\n",
    "plt.legend()\n",
    "plt.show()\n"
   ]
  },
  {
   "cell_type": "markdown",
   "metadata": {},
   "source": [
    "Rebuild the Model for Polynomial Degree 2"
   ]
  },
  {
   "cell_type": "code",
   "execution_count": 8,
   "metadata": {},
   "outputs": [
    {
     "name": "stdout",
     "output_type": "stream",
     "text": [
      "Ground Truth Train:  [0.15607424]\n",
      "Predicted Train:  [0.11244413]\n",
      "Ground Truth Test:  [0.12053708]\n",
      "Predicted Test:  [0.17822769]\n"
     ]
    }
   ],
   "source": [
    "poly = PolynomialFeatures(degree=2)\n",
    "\n",
    "x_train_poly = poly.fit_transform(x_train_scaled)\n",
    "x_test_poly = poly.fit_transform(x_test_scaled)\n",
    "\n",
    "poly_reg_model = LinearRegression()\n",
    "poly_reg_model.fit(x_train_poly, y_train_scaled)\n",
    "\n",
    "yhat_train = poly_reg_model.predict(x_train_poly)\n",
    "yhat_test = poly_reg_model.predict(x_test_poly)\n",
    "\n",
    "ground_truth = y_train_scaled[0]\n",
    "print(\"Ground Truth Train: \", ground_truth)\n",
    "\n",
    "predicted = yhat_train[0]\n",
    "print(\"Predicted Train: \", predicted)\n",
    "\n",
    "\n",
    "ground_truth = y_test_scaled[0]\n",
    "print(\"Ground Truth Test: \", ground_truth)\n",
    "\n",
    "predicted = yhat_test[0]\n",
    "print(\"Predicted Test: \", predicted)"
   ]
  },
  {
   "cell_type": "markdown",
   "metadata": {},
   "source": [
    "Above is an exmaple opf our ground truth and predictions for our training and testing dataset with a 2nd degree polynomial regression model."
   ]
  },
  {
   "cell_type": "markdown",
   "metadata": {},
   "source": [
    "### Where does your model fit in the fitting graph? and What are the next models you are thinking of and why?"
   ]
  },
  {
   "cell_type": "markdown",
   "metadata": {},
   "source": [
    "After plotting our fitting graph, we notice that the training MSE decreases as the polynomial degree increases. However, the testing MSE decreases from degree 1 to degree 2 and increases from degree 2 onwards. After degree 2, our model shows signs of overfitting. Therefore, we believe a second degree polynomial model fits our dataset the best.\n",
    "\n",
    "For our next model, we are thinking about using a decision tree. Many of our features can be easily split by placing thresholds. For example, the temperature of the day. Our decision tree leaf nodes would be the amount of bikes being rented out on a given day."
   ]
  },
  {
   "cell_type": "markdown",
   "metadata": {},
   "source": [
    "### What is the conclusion of your 1st model? What can be done to possibly improve it?\n",
    "\n",
    "For our first model, we think the MSE is acceptable. We picked a good complexity for our polynomial model based on the fitting graph. We picked the optimal degree to avoid overfitting. To improve our model, we can use graident descent to optimize the weights in our model. We can also use k-fold cross validation and feature expansion to improve upon our current model."
   ]
  }
 ],
 "metadata": {
  "kernelspec": {
   "display_name": "base",
   "language": "python",
   "name": "python3"
  },
  "language_info": {
   "codemirror_mode": {
    "name": "ipython",
    "version": 3
   },
   "file_extension": ".py",
   "mimetype": "text/x-python",
   "name": "python",
   "nbconvert_exporter": "python",
   "pygments_lexer": "ipython3",
   "version": "3.11.7"
  }
 },
 "nbformat": 4,
 "nbformat_minor": 2
}
