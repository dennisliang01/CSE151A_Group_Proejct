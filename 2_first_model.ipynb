{
 "cells": [
  {
   "cell_type": "markdown",
   "metadata": {},
   "source": [
    "## Training Our First Model (Polynomial Regression)"
   ]
  },
  {
   "cell_type": "markdown",
   "metadata": {},
   "source": [
    "Spliting the Data"
   ]
  },
  {
   "cell_type": "code",
   "execution_count": null,
   "metadata": {},
   "outputs": [
    {
     "name": "stdout",
     "output_type": "stream",
     "text": [
      "(7008, 13)\n",
      "(1752, 13)\n",
      "(7008,)\n",
      "(1752,)\n"
     ]
    }
   ],
   "source": [
    "x_train, x_test, y_train, y_test = train_test_split(bike_data.drop(['Rented Bike Count'], axis=1), bike_data['Rented Bike Count'], test_size=0.2, random_state=21)\n",
    "\n",
    "print(x_train.shape)\n",
    "print(x_test.shape)\n",
    "print(y_train.shape)\n",
    "print(y_test.shape)"
   ]
  },
  {
   "cell_type": "markdown",
   "metadata": {},
   "source": [
    "Scaling the Data"
   ]
  },
  {
   "cell_type": "code",
   "execution_count": null,
   "metadata": {},
   "outputs": [
    {
     "name": "stdout",
     "output_type": "stream",
     "text": [
      "[[0.7826087  0.4020979  0.44897959 ... 0.         1.         0.03846154]\n",
      " [0.47826087 0.66958042 0.80612245 ... 0.         1.         0.45054945]\n",
      " [0.         0.26398601 0.41836735 ... 1.         1.         0.12912088]\n",
      " ...\n",
      " [0.         0.38111888 0.59183673 ... 0.         1.         0.92307692]\n",
      " [0.69565217 0.8986014  0.58163265 ... 0.         1.         0.59340659]\n",
      " [1.         0.7465035  0.8877551  ... 0.         1.         0.52197802]]\n",
      "[[0.13043478 0.63167587 0.58163265 ... 0.         1.         0.68956044]\n",
      " [0.95652174 0.91712707 0.65306122 ... 0.         1.         0.58516484]\n",
      " [0.04347826 0.5267035  0.75510204 ... 0.         1.         0.24725275]\n",
      " ...\n",
      " [0.47826087 0.35174954 0.51020408 ... 0.         1.         0.14835165]\n",
      " [0.17391304 0.21915285 0.71428571 ... 0.         1.         0.95879121]\n",
      " [0.56521739 0.31123389 0.30612245 ... 0.         1.         0.92582418]]\n",
      "[[0.15607424]\n",
      " [0.20669291]\n",
      " [0.02221597]\n",
      " ...\n",
      " [0.09617548]\n",
      " [0.23003375]\n",
      " [0.10489314]]\n",
      "[[0.12053708]\n",
      " [0.41959109]\n",
      " [0.13823619]\n",
      " ...\n",
      " [0.09093683]\n",
      " [0.02441257]\n",
      " [0.11931645]]\n"
     ]
    }
   ],
   "source": [
    "from sklearn.preprocessing import MinMaxScaler\n",
    "scaler = MinMaxScaler()\n",
    "\n",
    "x_train_scaled = scaler.fit_transform(x_train)\n",
    "x_test_scaled = scaler.fit_transform(x_test)\n",
    "\n",
    "y_train_scaled = scaler.fit_transform(y_train.values.reshape(-1, 1))\n",
    "y_test_scaled = scaler.fit_transform(y_test.values.reshape(-1, 1))\n",
    "\n",
    "print(x_train_scaled)\n",
    "print(x_test_scaled)\n",
    "print(y_train_scaled)\n",
    "print(y_test_scaled)"
   ]
  },
  {
   "cell_type": "markdown",
   "metadata": {},
   "source": [
    "Testing Different Polynomial Degrees"
   ]
  },
  {
   "cell_type": "code",
   "execution_count": null,
   "metadata": {},
   "outputs": [
    {
     "name": "stdout",
     "output_type": "stream",
     "text": [
      "Degree  1  Training Mean squared error: 0.014771\n",
      "Degree  1  Test Mean squared error: 0.017929\n",
      "Degree  2  Training Mean squared error: 0.009724\n",
      "Degree  2  Test Mean squared error: 0.013152\n",
      "Degree  3  Training Mean squared error: 0.005771\n",
      "Degree  3  Test Mean squared error: 0.757728\n",
      "Degree  4  Training Mean squared error: 0.003472\n",
      "Degree  4  Test Mean squared error: 74709301875.516037\n"
     ]
    }
   ],
   "source": [
    "from sklearn.preprocessing import PolynomialFeatures\n",
    "\n",
    "mse_training_list = []\n",
    "mse_test_list = []\n",
    "\n",
    "for x in range(1, 5):\n",
    "  poly = PolynomialFeatures(degree=x)\n",
    "\n",
    "  x_train_poly = poly.fit_transform(x_train_scaled)\n",
    "  x_test_poly = poly.fit_transform(x_test_scaled)\n",
    "\n",
    "  poly_reg_model = LinearRegression()\n",
    "  poly_reg_model.fit(x_train_poly, y_train_scaled)\n",
    "\n",
    "  yhat_train = poly_reg_model.predict(x_train_poly)\n",
    "  yhat_test = poly_reg_model.predict(x_test_poly)\n",
    "\n",
    "  train_mse = mean_squared_error(y_train_scaled, yhat_train)\n",
    "  test_mse = mean_squared_error(y_test_scaled, yhat_test)\n",
    "\n",
    "  mse_training_list.append(train_mse)\n",
    "  mse_test_list.append(test_mse)\n",
    "\n",
    "  print('Degree ', x, ' Training Mean squared error: %f' % train_mse)\n",
    "  print('Degree ', x, ' Test Mean squared error: %f' % test_mse)"
   ]
  },
  {
   "cell_type": "markdown",
   "metadata": {},
   "source": [
    "We noticed that the test dataset MSE for degree 4 is very high. For easier visualization, we did not include degree 4 in our fitting graph."
   ]
  },
  {
   "cell_type": "code",
   "execution_count": null,
   "metadata": {},
   "outputs": [
    {
     "data": {
      "image/png": "[encoded data removed]",
      "text/plain": [
       "<Figure size 640x480 with 1 Axes>"
      ]
     },
     "metadata": {},
     "output_type": "display_data"
    }
   ],
   "source": [
    "plt.figure()\n",
    "plt.title('MSE vs Polynomial Degree')\n",
    "plt.plot(range(1, 4), mse_training_list[0:3], label='Training')\n",
    "plt.plot(range(1, 4), mse_test_list[0:3], label='Test')\n",
    "\n",
    "plt.xticks(range(1, 4))\n",
    "\n",
    "plt.xlabel('Polynomial Degree')\n",
    "plt.ylabel('Mean Squared Error')\n",
    "plt.legend()\n",
    "plt.show()\n"
   ]
  },
  {
   "cell_type": "markdown",
   "metadata": {},
   "source": [
    "Rebuild the Model for Polynomial Degree 2"
   ]
  },
  {
   "cell_type": "code",
   "execution_count": null,
   "metadata": {},
   "outputs": [
    {
     "name": "stdout",
     "output_type": "stream",
     "text": [
      "Ground Truth Train:  [0.15607424]\n",
      "Predicted Train:  [0.11244413]\n",
      "Ground Truth Test:  [0.12053708]\n",
      "Predicted Test:  [0.17822769]\n"
     ]
    }
   ],
   "source": [
    "poly = PolynomialFeatures(degree=2)\n",
    "\n",
    "x_train_poly = poly.fit_transform(x_train_scaled)\n",
    "x_test_poly = poly.fit_transform(x_test_scaled)\n",
    "\n",
    "poly_reg_model = LinearRegression()\n",
    "poly_reg_model.fit(x_train_poly, y_train_scaled)\n",
    "\n",
    "yhat_train = poly_reg_model.predict(x_train_poly)\n",
    "yhat_test = poly_reg_model.predict(x_test_poly)\n",
    "\n",
    "ground_truth = y_train_scaled[0]\n",
    "print(\"Ground Truth Train: \", ground_truth)\n",
    "\n",
    "predicted = yhat_train[0]\n",
    "print(\"Predicted Train: \", predicted)\n",
    "\n",
    "\n",
    "ground_truth = y_test_scaled[0]\n",
    "print(\"Ground Truth Test: \", ground_truth)\n",
    "\n",
    "predicted = yhat_test[0]\n",
    "print(\"Predicted Test: \", predicted)"
   ]
  },
  {
   "cell_type": "markdown",
   "metadata": {},
   "source": [
    "Above is an exmaple opf our ground truth and predictions for our training and testing dataset with a 2nd degree polynomial regression model."
   ]
  },
  {
   "cell_type": "markdown",
   "metadata": {},
   "source": [
    "### Where does your model fit in the fitting graph? and What are the next models you are thinking of and why?"
   ]
  },
  {
   "cell_type": "markdown",
   "metadata": {},
   "source": [
    "After plotting our fitting graph, we notice that the training MSE decreases as the polynomial degree increases. However, the testing MSE decreases from degree 1 to degree 2 and increases from degree 2 onwards. After degree 2, our model shows signs of overfitting. Therefore, we believe a second degree polynomial model fits our dataset the best.\n",
    "\n",
    "For our next model, we are thinking about using a decision tree. Many of our features can be easily split by placing thresholds. For example, the temperature of the day. Our decision tree leaf nodes would be the amount of bikes being rented out on a given day."
   ]
  },
  {
   "cell_type": "markdown",
   "metadata": {},
   "source": [
    "### What is the conclusion of your 1st model? What can be done to possibly improve it?\n",
    "\n",
    "For our first model, we think the MSE is acceptable. We picked a good complexity for our polynomial model based on the fitting graph. We picked the optimal degree to avoid overfitting. To improve our model, we can use graident descent to optimize the weights in our model. We can also use k-fold cross validation and feature expansion to improve upon our current model."
   ]
  }
 ],
 "metadata": {
  "language_info": {
   "name": "python"
  }
 },
 "nbformat": 4,
 "nbformat_minor": 2
}
